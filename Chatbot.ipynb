{
  "nbformat": 4,
  "nbformat_minor": 0,
  "metadata": {
    "colab": {
      "provenance": []
    },
    "kernelspec": {
      "name": "python3",
      "display_name": "Python 3"
    },
    "language_info": {
      "name": "python"
    }
  },
  "cells": [
    {
      "cell_type": "code",
      "source": [
        "import re\n",
        "import random\n",
        "!pip install vaderSentiment"
      ],
      "metadata": {
        "colab": {
          "base_uri": "https://localhost:8080/"
        },
        "id": "4zm31XuoSK52",
        "outputId": "8fa50fb0-8c9c-4536-c545-663597e3331d"
      },
      "execution_count": null,
      "outputs": [
        {
          "output_type": "stream",
          "name": "stdout",
          "text": [
            "Looking in indexes: https://pypi.org/simple, https://us-python.pkg.dev/colab-wheels/public/simple/\n",
            "Collecting vaderSentiment\n",
            "  Downloading vaderSentiment-3.3.2-py2.py3-none-any.whl (125 kB)\n",
            "\u001b[2K     \u001b[90m━━━━━━━━━━━━━━━━━━━━━━━━━━━━━━━━━━━━━━━\u001b[0m \u001b[32m126.0/126.0 KB\u001b[0m \u001b[31m3.0 MB/s\u001b[0m eta \u001b[36m0:00:00\u001b[0m\n",
            "\u001b[?25hRequirement already satisfied: requests in /usr/local/lib/python3.9/dist-packages (from vaderSentiment) (2.27.1)\n",
            "Requirement already satisfied: certifi>=2017.4.17 in /usr/local/lib/python3.9/dist-packages (from requests->vaderSentiment) (2022.12.7)\n",
            "Requirement already satisfied: idna<4,>=2.5 in /usr/local/lib/python3.9/dist-packages (from requests->vaderSentiment) (3.4)\n",
            "Requirement already satisfied: urllib3<1.27,>=1.21.1 in /usr/local/lib/python3.9/dist-packages (from requests->vaderSentiment) (1.26.15)\n",
            "Requirement already satisfied: charset-normalizer~=2.0.0 in /usr/local/lib/python3.9/dist-packages (from requests->vaderSentiment) (2.0.12)\n",
            "Installing collected packages: vaderSentiment\n",
            "Successfully installed vaderSentiment-3.3.2\n"
          ]
        }
      ]
    },
    {
      "cell_type": "code",
      "source": [
        "#Create sentiment analyzer model\n",
        "from vaderSentiment.vaderSentiment import SentimentIntensityAnalyzer\n",
        "analyzer = SentimentIntensityAnalyzer()"
      ],
      "metadata": {
        "id": "nRRQbcFZj62U"
      },
      "execution_count": null,
      "outputs": []
    },
    {
      "cell_type": "code",
      "source": [
        "# Spotify secrets\n",
        "refresh_token = \"REFRESHTOKEN"\n",
        "base_64 = 'BASE64'"
      ],
      "metadata": {
        "id": "ls9W7UZrDz2s"
      },
      "execution_count": null,
      "outputs": []
    },
    {
      "cell_type": "code",
      "source": [
        "import requests\n",
        "import json\n",
        "\n",
        "# Set up spotify authorization\n",
        "CLIENT_ID = 'CLIENTID'\n",
        "CLIENT_SECRET = 'CLIENTSECRET'\n",
        "auth_response = requests.post('https://accounts.spotify.com/api/token', {\n",
        "    'grant_type': 'client_credentials',\n",
        "    'client_id': CLIENT_ID,\n",
        "    'client_secret': CLIENT_SECRET,\n",
        "})\n",
        "auth_response_data = auth_response.json()\n",
        "access_token = auth_response_data['access_token']\n",
        "headers = {\n",
        "    'Authorization': 'Bearer {token}'.format(token=access_token)\n",
        "}\n"
      ],
      "metadata": {
        "id": "WLCYhJ8fbpbk"
      },
      "execution_count": null,
      "outputs": []
    },
    {
      "cell_type": "code",
      "source": [
        "def get_song_id(input_song):\n",
        "    # Set up API request headers and parameters\n",
        "    endpoint = \"https://api.spotify.com/v1/search\"\n",
        "    params = {\n",
        "        \"q\": input_song,\n",
        "        \"type\": \"track\",\n",
        "        \"market\": \"US\",\n",
        "        \"limit\": 1\n",
        "    }\n",
        "\n",
        "    # Make API request and parse response\n",
        "    response = requests.get(endpoint, headers=headers, params=params)\n",
        "    response_json = json.loads(response.text)\n",
        "\n",
        "    # Get input song ID\n",
        "    song_id = response_json['tracks']['items'][0]['id']\n",
        "\n",
        "    return song_id\n",
        "    #return response_json\n"
      ],
      "metadata": {
        "id": "hXRdaIg8Dfi3"
      },
      "execution_count": null,
      "outputs": []
    },
    {
      "cell_type": "code",
      "source": [
        "def get_artist_id(artist_name):\n",
        "    # Set up API request headers and parameters\n",
        "    endpoint = \"https://api.spotify.com/v1/search\"\n",
        "    params = {\n",
        "        \"q\": artist_name,\n",
        "        \"type\": \"artist\",\n",
        "        \"market\": \"US\",\n",
        "        \"limit\": 1\n",
        "    }\n",
        "\n",
        "    # Make API request and parse response\n",
        "    response = requests.get(endpoint, headers=headers, params=params)\n",
        "    response_json = json.loads(response.text)\n",
        "\n",
        "    # Get artist ID\n",
        "    artist_id = response_json['artists']['items'][0]['id']\n",
        "\n",
        "    return artist_id"
      ],
      "metadata": {
        "id": "RL6W1LTkGbsS"
      },
      "execution_count": null,
      "outputs": []
    },
    {
      "cell_type": "code",
      "source": [
        "def get_genre_id(genre):\n",
        "    # Set up API request headers and parameters\n",
        "    endpoint = \"https://api.spotify.com/v1/search\"\n",
        "    params = {\n",
        "        \"q\": genre,\n",
        "        \"type\": \"genre\",\n",
        "        \"market\": \"US\",\n",
        "        \"limit\": 1\n",
        "    }\n",
        "\n",
        "    # Make API request and parse response\n",
        "    response = requests.get(endpoint, headers=headers, params=params)\n",
        "    response_json = json.loads(response.text)\n",
        "\n",
        "    return response_json"
      ],
      "metadata": {
        "id": "xuRkzzj4ITfx"
      },
      "execution_count": null,
      "outputs": []
    },
    {
      "cell_type": "code",
      "source": [
        "def extract_song_artist(string):\n",
        "    # Check if the string contains a hyphen\n",
        "    if '-' in string:\n",
        "        # Split the string using the hyphen as a delimiter\n",
        "        song_artist = string.split('-')\n",
        "        # Extract the song name and artist name\n",
        "        song_name = song_artist[1].strip()\n",
        "        artist_name = song_artist[0].strip()\n",
        "    # Check if the string contains the phrase 'by'\n",
        "    elif 'by' in string:\n",
        "        # Split the string using 'by' as a delimiter\n",
        "        song_artist = string.split('by')\n",
        "        # Extract the song name and artist name\n",
        "        song_name = song_artist[0].strip()\n",
        "        artist_name = song_artist[1].strip()\n",
        "    # If neither format is found, return None\n",
        "    else:\n",
        "        return None\n",
        "    return song_name, artist_name"
      ],
      "metadata": {
        "id": "RxSKo-jzSI6O"
      },
      "execution_count": null,
      "outputs": []
    },
    {
      "cell_type": "code",
      "source": [
        "# Song recommendation function, takes a song as input and returns a list of similar songs\n",
        "  # Searches for the song provided and gets track id and artist name\n",
        "  # Gets the audio features of this song\n",
        "  # Gets a list of song recommendations based on this songs audio features\n",
        "def get_recommendation(song_input):\n",
        "    # Search for the input song\n",
        "    search_response = requests.get('https://api.spotify.com/v1/search', headers=headers, params={\n",
        "        'q': song_input,\n",
        "        'type': 'track'\n",
        "    })\n",
        "    search_response_data = search_response.json()\n",
        "\n",
        "    # Get the track ID and artist name of the input song\n",
        "    track_id = search_response_data['tracks']['items'][0]['id']\n",
        "    artist_name = search_response_data['tracks']['items'][0]['artists'][0]['name']\n",
        "\n",
        "    # Get the audio features of the input song\n",
        "    audio_features_response = requests.get('https://api.spotify.com/v1/audio-features/{id}'.format(id=track_id), headers=headers)\n",
        "    audio_features_response_data = audio_features_response.json()\n",
        "    audio_features = audio_features_response_data\n",
        "\n",
        "    # Get song recommendations based on the audio features of the input song\n",
        "    recommendations_response = requests.get('https://api.spotify.com/v1/recommendations', headers=headers, params={\n",
        "        'seed_tracks': track_id,\n",
        "        'target_acousticness': audio_features['acousticness'],\n",
        "        'target_danceability': audio_features['danceability'],\n",
        "        'target_energy': audio_features['energy'],\n",
        "        'target_instrumentalness': audio_features['instrumentalness'],\n",
        "        'target_key': audio_features['key'],\n",
        "        'target_liveness': audio_features['liveness'],\n",
        "        'target_loudness': audio_features['loudness'],\n",
        "        'target_mode': audio_features['mode'],\n",
        "        'target_speechiness': audio_features['speechiness'],\n",
        "        'target_tempo': audio_features['tempo'],\n",
        "        'target_time_signature': audio_features['time_signature'],\n",
        "        'target_valence': audio_features['valence']\n",
        "    })\n",
        "    recommendations_response_data = recommendations_response.json()\n",
        "    recommendations = [{'name': track['name'], 'artist': track['artists'][0]['name']} for track in recommendations_response_data['tracks']]\n",
        "\n",
        "    # Return the list of song recommendations with artist names\n",
        "    return recommendations\n"
      ],
      "metadata": {
        "id": "6Rgz75-THRYO"
      },
      "execution_count": null,
      "outputs": []
    },
    {
      "cell_type": "code",
      "source": [
        "# Define a function to get a song recommendation based on a genre\n",
        "  # Takes input as a genre name\n",
        "  # Generate a list of songs from this genre\n",
        "  # Select a random song from this list and generate recommendations based on this songs audio features\n",
        "def get_recommendation_by_genre(genre):\n",
        "    rand = random.randint(0, 19)\n",
        "    # Search for tracks in the specified genre\n",
        "    search_response = requests.get('https://api.spotify.com/v1/search', headers=headers, params={\n",
        "        'q': 'genre:\"{genre}\"'.format(genre=genre),\n",
        "        'type': 'track'\n",
        "    })\n",
        "    search_response_data = search_response.json()\n",
        "\n",
        "    # Get a random track from the search results\n",
        "    track = search_response_data['tracks']['items'][rand]\n",
        "\n",
        "    # Get the audio features of the selected track\n",
        "    audio_features_response = requests.get('https://api.spotify.com/v1/audio-features/{id}'.format(id=track['id']), headers=headers)\n",
        "    audio_features_response_data = audio_features_response.json()\n",
        "    audio_features = audio_features_response_data\n",
        "\n",
        "    # Get song recommendations based on the audio features of the selected track\n",
        "    recommendations_response = requests.get('https://api.spotify.com/v1/recommendations', headers=headers, params={\n",
        "        'seed_tracks': track['id'],\n",
        "        'target_acousticness': audio_features['acousticness'],\n",
        "        'target_danceability': audio_features['danceability'],\n",
        "        'target_energy': audio_features['energy'],\n",
        "        'target_instrumentalness': audio_features['instrumentalness'],\n",
        "        'target_key': audio_features['key'],\n",
        "        'target_liveness': audio_features['liveness'],\n",
        "        'target_loudness': audio_features['loudness'],\n",
        "        'target_mode': audio_features['mode'],\n",
        "        'target_speechiness': audio_features['speechiness'],\n",
        "        'target_tempo': audio_features['tempo'],\n",
        "        'target_time_signature': audio_features['time_signature'],\n",
        "        'target_valence': audio_features['valence']\n",
        "    })\n",
        "    recommendations_response_data = recommendations_response.json()\n",
        "    recommendations = [{'name': track['name'], 'artist': track['artists'][0]['name']} for track in recommendations_response_data['tracks']]\n",
        "\n",
        "    # Return the list of song recommendations\n",
        "    return recommendations"
      ],
      "metadata": {
        "id": "qiZY5kACHj2f"
      },
      "execution_count": null,
      "outputs": []
    },
    {
      "cell_type": "code",
      "source": [
        "#Take artist name as input\n",
        "#Returns a random recommended song based on artist\n",
        "def get_recommendation_by_artist(artist_name):\n",
        "    # Get artist ID from input\n",
        "    artist_id = get_artist_id(artist_name)\n",
        "\n",
        "    # Set up API request headers and parameters\n",
        "    endpoint = f\"https://api.spotify.com/v1/recommendations\"\n",
        "    params = {\n",
        "        \"seed_artists\": artist_id,\n",
        "        \"limit\": 1\n",
        "    }\n",
        "\n",
        "    # Make API request and parse response\n",
        "    response = requests.get(endpoint, headers=headers, params=params)\n",
        "    response_json = json.loads(response.text)\n",
        "\n",
        "    # Get recommended song details\n",
        "    song_name = response_json['tracks'][0]['name']\n",
        "    song_artist = response_json['tracks'][0]['artists'][0]['name']\n",
        "\n",
        "    # Return recommended song as a string\n",
        "    return f\"{song_name} by {song_artist}\""
      ],
      "metadata": {
        "id": "-rqi-BiYGVEN"
      },
      "execution_count": null,
      "outputs": []
    },
    {
      "cell_type": "code",
      "source": [
        "#Currently unused function\n",
        "#Can be used to recommend user artists they might like\n",
        "def get_artists_by_genre(genre):\n",
        "    # Get genre ID from input\n",
        "    genre_id = get_genre_id(genre)\n",
        "\n",
        "    # Set up API request headers and parameters\n",
        "    endpoint = f\"https://api.spotify.com/v1/search\"\n",
        "    params = {\n",
        "        \"q\": f\"genre:\\\"{genre}\\\"\",\n",
        "        \"type\": \"artist\",\n",
        "        \"market\": \"US\",\n",
        "        \"limit\": 10\n",
        "    }\n",
        "\n",
        "    # Make API request and parse response\n",
        "    response = requests.get(endpoint, headers=headers, params=params)\n",
        "    response_json = json.loads(response.text)\n",
        "\n",
        "    # Get list of artist names\n",
        "    artist_names = []\n",
        "    for artist in response_json['artists']['items']:\n",
        "        artist_names.append(artist['name'])\n",
        "\n",
        "    return artist_names"
      ],
      "metadata": {
        "id": "O2CcHJLfIOc5"
      },
      "execution_count": null,
      "outputs": []
    },
    {
      "cell_type": "code",
      "source": [
        "#Unused function\n",
        "#Could be used to extract audio features for a given song\n",
        "#Then with this build a users personal taste, e.g. if they liked when they were recommended higher BPM songs.\n",
        "#Then when calling song recommendation functions, pass in the users personal taste to influence results.\n",
        "def get_audio_analysis(input_song):\n",
        "    # Get song ID from input\n",
        "    song_id = get_song_id(input_song)\n",
        "\n",
        "    # Set up API request headers and parameters\n",
        "    endpoint = f\"https://api.spotify.com/v1/audio-analysis/{song_id}\"\n",
        "\n",
        "    # Make API request and parse response\n",
        "    response = requests.get(endpoint, headers=headers)\n",
        "    response_json = json.loads(response.text)\n",
        "\n",
        "    try:\n",
        "      del response_json['track']['codestring']\n",
        "      del response_json['track']['echoprintstring']\n",
        "      del response_json['track']['synchstring']\n",
        "      del response_json['track']['rhythmstring']\n",
        "    except KeyError:\n",
        "      pass\n",
        "\n",
        "    return response_json['track']\n"
      ],
      "metadata": {
        "id": "9W7MuYglCpxl"
      },
      "execution_count": null,
      "outputs": []
    },
    {
      "cell_type": "code",
      "source": [
        "def Recommend(rectype, user_input, exit_keywords):\n",
        "  while (user_input not in exit_keywords) and (temp_input not in exit_keywords):\n",
        "    exit_keywords = ['quit', 'stop', 'end', 'exit']\n",
        "    it = 0\n",
        "    pol = {'neg': 0.0, 'neu': 0.0, 'pos': 0.0, 'compound': 0.0}\n",
        "    #Recommend by genre\n",
        "    if rectype == 'genre':\n",
        "      rec = get_recommendation_by_genre(user_input)\n",
        "    #Recommend by song\n",
        "    elif rectype == 'song':\n",
        "      rec = get_recommendation(user_input)\n",
        "    #Recommend by artist\n",
        "    elif rectype == 'artist':\n",
        "      #Get a recommended song based on the artist\n",
        "      song = get_recommendation_by_artist(user_input)\n",
        "      #Generate a song list based on this song\n",
        "      rec = get_recommendation(song)\n",
        "    #Recommend by song + artist\n",
        "    elif rectype == 'songartist':\n",
        "      #Extract song and artist name\n",
        "      artist, song = extract_song_artist(user_input)\n",
        "      #Get recommendation\n",
        "      rec = get_recommendation(artist + song)\n",
        "\n",
        "    #Break loop if user enters 'no' or equivelant\n",
        "    while pol['compound'] >= 0:\n",
        "      print (\"🤖🎶 I recommend\", rec[it]['name'], \"by\", rec[it]['artist'])\n",
        "      print (\"🤖🎶 I hope you liked this recommendation! Would you like another?\")\n",
        "      user_input = input(\"✍️: \").lower()\n",
        "      #Calculate sentiment for user input\n",
        "      pol = analyzer.polarity_scores(user_input)\n",
        "      it += 1\n",
        "      #To avoid program crashing if user requests more songs than the chatbot has stored, check it value\n",
        "      if (it > 19 and pol['compound'] >= 0):\n",
        "        print (\"🤖🎶 Sorry! I have run out of recommendations\")\n",
        "        #Setting compound value to a negative value will break out of the while loop\n",
        "        pol['compound'] = -1\n",
        "      if (user_input in exit_keywords):\n",
        "        return ('exit')\n",
        "    break"
      ],
      "metadata": {
        "id": "MyOZBn1LVD6L"
      },
      "execution_count": null,
      "outputs": []
    },
    {
      "cell_type": "code",
      "source": [
        "#Main Chatbot Function\n",
        "\n",
        "user_input = ''\n",
        "temp_input = ''\n",
        "#Define user inputs that will end the program\n",
        "exit_keywords = ['quit', 'stop', 'end', 'exit']\n",
        "\n",
        "#Loop entire chatbot unless user inputs a stop word\n",
        "while (user_input not in exit_keywords) and (temp_input not in exit_keywords):\n",
        "  print (\"####################################################################################\\n 🤖🎶 I am Melobo, a music recommendation bot! \\n 🤖🎶 Enter a song, artist, or genre you enjoy and I'll find something new for you!\")\n",
        "  user_input = input(\"✍️: \").lower()\n",
        "\n",
        "  #If user input is a songname + artist pair\n",
        "  #Try will attempt to run the following code, if it fails (likely at get_recommendation(song + artist) it will break, and run from except:)\n",
        "  if (user_input not in exit_keywords) and (temp_input not in exit_keywords):\n",
        "    try:\n",
        "      #Function extracts artist name and song name from the users input\n",
        "      artist, song = extract_song_artist(user_input)\n",
        "      #Rec stores 20 recommended songs from Spotify API\n",
        "      user_input = Recommend('songartist', user_input, exit_keywords)\n",
        "    #If songname + artist pair cannot be extracted...\n",
        "    except:\n",
        "      #Try recommend by genre, if the genre doesn't exist\n",
        "      try:\n",
        "        user_input = Recommend('genre', user_input, exit_keywords)\n",
        "      except:\n",
        "      #input wasn't a genre name, check if it was a song or artist name\n",
        "          #Store previous song/artist name in temp variable, we still need this to make recommendations\n",
        "          print (\"🤖🎶  Im not quite sure what that is, is that a song, artist or genre?\")\n",
        "          temp_input = input(\"✍️: \").lower()\n",
        "          # Check if the string contains the word 'song'\n",
        "          if \"song\" in temp_input:\n",
        "            user_input = Recommend('song', user_input, exit_keywords)\n",
        "          #Check if user input 'artist'\n",
        "          elif \"artist\" in temp_input:\n",
        "            user_input = Recommend('artist', user_input, exit_keywords)\n",
        "          #Check if user input 'genre'\n",
        "          elif \"genre\" in temp_input:\n",
        "            print(\"Im sorry, I couldn't find any results for that genre, could you check your spelling and try again?\")\n",
        "          else:\n",
        "            if (user_input not in exit_keywords) and (temp_input not in exit_keywords):\n",
        "              print(\"Im sorry, Im not sure what you mean? Please try again\")\n",
        "            break"
      ],
      "metadata": {
        "colab": {
          "base_uri": "https://localhost:8080/"
        },
        "id": "P3Tj7yTVn9e2",
        "outputId": "07017692-43ca-45a2-f1bc-c6a79a5dee80"
      },
      "execution_count": null,
      "outputs": [
        {
          "name": "stdout",
          "output_type": "stream",
          "text": [
            "####################################################################################\n",
            " 🤖🎶 I am Melobo, a music recommendation bot! \n",
            " 🤖🎶 Enter a song, artist, or genre you enjoy and I'll find something new for you!\n",
            "✍️: rock\n",
            "🤖🎶 I recommend Believe Me - Remastered 2010 by Badfinger\n",
            "🤖🎶 I hope you liked this recommendation! Would you like another?\n",
            "✍️: yes\n",
            "🤖🎶 I recommend The Chain - 2004 Remaster by Fleetwood Mac\n",
            "🤖🎶 I hope you liked this recommendation! Would you like another?\n",
            "✍️: yes\n",
            "🤖🎶 I recommend I Can't Explain - Stereo Version by The Who\n",
            "🤖🎶 I hope you liked this recommendation! Would you like another?\n",
            "✍️: no\n",
            "####################################################################################\n",
            " 🤖🎶 I am Melobo, a music recommendation bot! \n",
            " 🤖🎶 Enter a song, artist, or genre you enjoy and I'll find something new for you!\n",
            "✍️: earthmover - have a nice life\n",
            "🤖🎶 I recommend Earthmover by Have A Nice Life\n",
            "🤖🎶 I hope you liked this recommendation! Would you like another?\n",
            "✍️: yes\n",
            "🤖🎶 I recommend Near by Deafheaven\n",
            "🤖🎶 I hope you liked this recommendation! Would you like another?\n",
            "✍️: no\n",
            "####################################################################################\n",
            " 🤖🎶 I am Melobo, a music recommendation bot! \n",
            " 🤖🎶 Enter a song, artist, or genre you enjoy and I'll find something new for you!\n",
            "✍️: vaundy\n",
            "🤖🎶  Im not quite sure what that is, is that a song, artist or genre?\n",
            "✍️: artist\n",
            "🤖🎶 I recommend Let's Go Wild by Cultured By A New War\n",
            "🤖🎶 I hope you liked this recommendation! Would you like another?\n",
            "✍️: exit\n"
          ]
        }
      ]
    },
    {
      "cell_type": "code",
      "source": [],
      "metadata": {
        "id": "uDLiSbEouCUk"
      },
      "execution_count": null,
      "outputs": []
    }
  ]
}
